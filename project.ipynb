{
 "cells": [
  {
   "cell_type": "code",
   "execution_count": 1,
   "metadata": {},
   "outputs": [
    {
     "name": "stdout",
     "output_type": "stream",
     "text": [
      "Archivo creado con éxito\n"
     ]
    }
   ],
   "source": [
    "import json\n",
    "\n",
    "def reindexar_propiedades(data):\n",
    "\tindex = 0\n",
    "\tnew_data = {}\n",
    "\n",
    "\tfor key, value in data.items():\n",
    "\t\tnew_data[str(index).zfill(3)] = value\n",
    "\t\tindex += 1\n",
    "\n",
    "\treturn new_data\n",
    "\n",
    "def reindexar_json(path):\n",
    "\ttry:\n",
    "\t\twith open(path, 'r') as file:\n",
    "\t\t\tdata = json.load(file)\n",
    "\t\t\tdata_reindex = reindexar_propiedades(data)\n",
    "\t\t\treturn data_reindex\n",
    "\texcept FileNotFoundError:\n",
    "\t\tprint('El archivo no existe')\n",
    "\t\treturn None\n",
    "\texcept json.JSONDecodeError:\n",
    "\t\tprint('El archivo no es un JSON válido')\n",
    "\t\treturn None\n",
    "\n",
    "path = 'db/dataInmuebles24_casas_renta.json'\n",
    "data = reindexar_json(path)\n",
    "if data:\n",
    "\twith open('db/dataInmuebles24_casas_renta_reindex.json', 'w') as file:\n",
    "\t\tjson.dump(data, file, indent=4)\n",
    "\t\tprint('Archivo creado con éxito')"
   ]
  },
  {
   "cell_type": "code",
   "execution_count": 3,
   "metadata": {},
   "outputs": [
    {
     "name": "stdout",
     "output_type": "stream",
     "text": [
      "Archivo creado con éxito\n"
     ]
    }
   ],
   "source": [
    "import json\n",
    "import pandas as pd\n",
    "\n",
    "def cargar_json(path):\n",
    "    try:\n",
    "        with open(path, 'r') as file:\n",
    "            data = json.load(file)\n",
    "            return data\n",
    "    except FileNotFoundError:\n",
    "        print(\"El archivo especificado no fue encontrado.\")\n",
    "        return None\n",
    "    except json.JSONDecodeError:\n",
    "        print(\"El archivo no tiene un formato JSON válido.\")\n",
    "        return None\n",
    "\n",
    "def aplanar_json(data):\n",
    "\tall_features = set()\n",
    "\tfor propiedades in data.values():\n",
    "\t\tfor feature in propiedades.keys():\n",
    "\t\t\tall_features.add(feature)\n",
    "\n",
    "\tnew_data = {}\n",
    "\tfor key, propiedades in data.items():\n",
    "\t\trow = {}\n",
    "\t\tfor feature in all_features:\n",
    "\t\t\tif feature in propiedades:\n",
    "\t\t\t\trow[feature] = propiedades[feature]\n",
    "\t\t\telse:\n",
    "\t\t\t\trow[feature] = None\n",
    "\n",
    "\tif 'models' in propiedades:\n",
    "\t\trow['models'] = 1\n",
    "\telse:\n",
    "\t\trow['models'] = 0\n",
    "\n",
    "\trow['ID'] = key\n",
    "\tnew_data[key] = row\n",
    "\n",
    "\treturn new_data\n",
    "\n",
    "path = 'db/dataInmuebles24_casas_renta_reindex.json'\n",
    "data = cargar_json(path)\n",
    "\n",
    "if data:\n",
    "\twith open('db/dataInmuebles24_casas_renta_aplanado.json', 'w') as file:\n",
    "\t\tjson.dump(data, file, indent=4)\n",
    "\t\tprint('Archivo creado con éxito')\n",
    "\t# data_aplanado = aplanar_json(data)\n",
    "\t# df = pd.DataFrame.from_dict(data_aplanado, orient='index')\n",
    "\t# df.to_csv('db/dataInmuebles24_casas_renta_aplanado.csv')"
   ]
  }
 ],
 "metadata": {
  "kernelspec": {
   "display_name": "base",
   "language": "python",
   "name": "python3"
  },
  "language_info": {
   "codemirror_mode": {
    "name": "ipython",
    "version": 3
   },
   "file_extension": ".py",
   "mimetype": "text/x-python",
   "name": "python",
   "nbconvert_exporter": "python",
   "pygments_lexer": "ipython3",
   "version": "3.11.7"
  }
 },
 "nbformat": 4,
 "nbformat_minor": 2
}
