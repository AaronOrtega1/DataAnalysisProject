{
 "cells": [
  {
   "cell_type": "code",
   "execution_count": 2,
   "metadata": {},
   "outputs": [
    {
     "name": "stdout",
     "output_type": "stream",
     "text": [
      "Archivo db/propiedades.csv creado con éxito\n"
     ]
    }
   ],
   "source": [
    "import json\n",
    "import csv\n",
    "import os\n",
    "\n",
    "def cargar_json(path):\n",
    "    try:\n",
    "        with open(path, 'r') as file:\n",
    "            data = json.load(file)\n",
    "            return data\n",
    "    except FileNotFoundError:\n",
    "        print(f\"El archivo {path} no existe\")\n",
    "        return None\n",
    "    except json.JSONDecodeError:\n",
    "        print(f\"El archivo {path} no es un JSON válido\")\n",
    "        return None\n",
    "\n",
    "def obtener_encabezados(data):\n",
    "    headers = set()\n",
    "    for key, value in data.items():\n",
    "        if isinstance(value, dict):\n",
    "            headers.update(value.keys())\n",
    "        elif isinstance(value, list):\n",
    "            for item in value:\n",
    "                headers.update(item.keys())\n",
    "    return sorted(headers)\n",
    "\n",
    "def escribir_csv(data, headers, output_file):\n",
    "    try:\n",
    "        with open(output_file, 'w', newline='', encoding='utf-8') as file:\n",
    "            writer = csv.DictWriter(file, fieldnames=headers)\n",
    "            writer.writeheader()\n",
    "            for key, value in data.items():\n",
    "                if isinstance(value, dict):\n",
    "                    row = {header: value.get(header, 'null') for header in headers}\n",
    "                    row['model'] = '1' if 'models' in value else '0'\n",
    "                    writer.writerow(row)\n",
    "                elif isinstance(value, list):\n",
    "                    for item in value:\n",
    "                        row = {header: item.get(header, 'null') for header in headers}\n",
    "                        row['model'] = '1' if 'models' in item else '0'\n",
    "                        writer.writerow(row)\n",
    "            print(f\"Archivo {output_file} creado con éxito\")\n",
    "    except Exception as e:\n",
    "        print(\"Error al escribir el archivo CSV:\", e)\n",
    "\n",
    "# Definir el directorio donde se encuentran los archivos JSON\n",
    "db_folder = \"db\"\n",
    "\n",
    "# Obtener los paths completos de los archivos JSON\n",
    "json_files = [os.path.join(db_folder, filename) for filename in os.listdir(db_folder) if filename.endswith(\".json\")]\n",
    "\n",
    "# Crear un diccionario combinado de todas las propiedades\n",
    "all_properties = {}\n",
    "for path in json_files:\n",
    "    data = cargar_json(path)\n",
    "    if data:\n",
    "        all_properties.update(data)\n",
    "\n",
    "# Obtener los encabezados del CSV\n",
    "headers = obtener_encabezados(all_properties)\n",
    "headers.append('model')\n",
    "\n",
    "# Escribir los datos en un archivo CSV\n",
    "escribir_csv(all_properties, headers, os.path.join(db_folder, \"propiedades.csv\"))\n"
   ]
  },
  {
   "cell_type": "code",
   "execution_count": null,
   "metadata": {},
   "outputs": [],
   "source": []
  }
 ],
 "metadata": {
  "kernelspec": {
   "display_name": "base",
   "language": "python",
   "name": "python3"
  },
  "language_info": {
   "codemirror_mode": {
    "name": "ipython",
    "version": 3
   },
   "file_extension": ".py",
   "mimetype": "text/x-python",
   "name": "python",
   "nbconvert_exporter": "python",
   "pygments_lexer": "ipython3",
   "version": "3.11.7"
  }
 },
 "nbformat": 4,
 "nbformat_minor": 2
}
