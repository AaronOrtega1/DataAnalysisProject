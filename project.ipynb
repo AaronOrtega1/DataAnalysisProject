{
 "cells": [
  {
   "cell_type": "code",
   "execution_count": 17,
   "metadata": {},
   "outputs": [
    {
     "name": "stdout",
     "output_type": "stream",
     "text": [
      "Archivo CSV creado: ./csv\\dataInmuebles24_casas_renta.csv\n",
      "Archivo CSV creado: ./csv\\dataInmuebles24_casas_venta.csv\n",
      "Archivo CSV creado: ./csv\\dataLamudi_casa_for-rent.csv\n",
      "Archivo CSV creado: ./csv\\dataLamudi_casa_for-sale.csv\n",
      "Archivo CSV creado: ./csv\\test.csv\n"
     ]
    }
   ],
   "source": []
  }
 ],
 "metadata": {
  "kernelspec": {
   "display_name": "base",
   "language": "python",
   "name": "python3"
  },
  "language_info": {
   "codemirror_mode": {
    "name": "ipython",
    "version": 3
   },
   "file_extension": ".py",
   "mimetype": "text/x-python",
   "name": "python",
   "nbconvert_exporter": "python",
   "pygments_lexer": "ipython3",
   "version": "3.11.5"
  }
 },
 "nbformat": 4,
 "nbformat_minor": 2
}
